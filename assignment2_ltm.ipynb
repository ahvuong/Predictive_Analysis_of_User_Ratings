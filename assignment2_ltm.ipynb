{
 "cells": [
  {
   "cell_type": "code",
   "execution_count": 90,
   "id": "586c242a",
   "metadata": {},
   "outputs": [],
   "source": [
    "import json\n",
    "from collections import defaultdict\n",
    "from sklearn import linear_model, metrics\n",
    "from sklearn.metrics import precision_score\n",
    "import numpy as np\n",
    "import random\n",
    "import gzip\n",
    "import dateutil.parser\n",
    "import math\n",
    "import matplotlib.pyplot as plt\n",
    "import string\n",
    "import re\n",
    "from nltk.stem.snowball import stopwords\n",
    "from sklearn.feature_extraction.text import CountVectorizer\n",
    "from sklearn.model_selection import train_test_split\n",
    "from sklearn.metrics import accuracy_score, mean_squared_error, mean_absolute_error\n",
    "from wordcloud import WordCloud, STOPWORDS\n",
    "from scipy.sparse import lil_matrix\n",
    "from gensim.models import Word2Vec\n",
    "import tensorflow as tf"
   ]
  },
  {
   "cell_type": "code",
   "execution_count": 91,
   "id": "439314fa",
   "metadata": {},
   "outputs": [],
   "source": [
    "f = gzip.open(\"renttherunway_final_data.json.gz\")\n",
    "dataset = []\n",
    "for l in f:\n",
    "    dataset.append(json.loads(l))"
   ]
  },
  {
   "cell_type": "code",
   "execution_count": 92,
   "id": "b18c8a50",
   "metadata": {},
   "outputs": [
    {
     "data": {
      "text/plain": [
       "192544"
      ]
     },
     "execution_count": 92,
     "metadata": {},
     "output_type": "execute_result"
    }
   ],
   "source": [
    "len(dataset)"
   ]
  },
  {
   "cell_type": "code",
   "execution_count": 93,
   "id": "c9ac506f",
   "metadata": {
    "scrolled": true
   },
   "outputs": [
    {
     "data": {
      "text/plain": [
       "{'fit': 'fit',\n",
       " 'user_id': '420272',\n",
       " 'bust size': '34d',\n",
       " 'item_id': '2260466',\n",
       " 'weight': '137lbs',\n",
       " 'rating': '10',\n",
       " 'rented for': 'vacation',\n",
       " 'review_text': \"An adorable romper! Belt and zipper were a little hard to navigate in a full day of wear/bathroom use, but that's to be expected. Wish it had pockets, but other than that-- absolutely perfect! I got a million compliments.\",\n",
       " 'body type': 'hourglass',\n",
       " 'review_summary': 'So many compliments!',\n",
       " 'category': 'romper',\n",
       " 'height': '5\\' 8\"',\n",
       " 'size': 14,\n",
       " 'age': '28',\n",
       " 'review_date': 'April 20, 2016'}"
      ]
     },
     "execution_count": 93,
     "metadata": {},
     "output_type": "execute_result"
    }
   ],
   "source": [
    "dataset[0]"
   ]
  },
  {
   "cell_type": "markdown",
   "id": "5ec77d14",
   "metadata": {},
   "source": [
    "## Data Cleaning"
   ]
  },
  {
   "cell_type": "code",
   "execution_count": 94,
   "id": "1cae4bab",
   "metadata": {},
   "outputs": [],
   "source": [
    "data = dataset"
   ]
  },
  {
   "cell_type": "code",
   "execution_count": 95,
   "id": "fca5ace0",
   "metadata": {},
   "outputs": [
    {
     "name": "stdout",
     "output_type": "stream",
     "text": [
      "192462 192544\n"
     ]
    }
   ],
   "source": [
    "# Drop all ratings having null values\n",
    "data = [d for d in dataset if d['rating'] != None]\n",
    "print(len(data), len(dataset))"
   ]
  },
  {
   "cell_type": "code",
   "execution_count": 96,
   "id": "4d85d45c",
   "metadata": {},
   "outputs": [
    {
     "name": "stdout",
     "output_type": "stream",
     "text": [
      "191503 192544\n"
     ]
    }
   ],
   "source": [
    "# Drop all 'age' having null values\n",
    "data = [d for d in data if 'age' in d]\n",
    "print(len(data), len(dataset))"
   ]
  },
  {
   "cell_type": "code",
   "execution_count": 97,
   "id": "8d93155b",
   "metadata": {},
   "outputs": [
    {
     "name": "stdout",
     "output_type": "stream",
     "text": [
      "162153 192544\n"
     ]
    }
   ],
   "source": [
    "# Drop all 'weight' having null values\n",
    "data = [d for d in data if 'weight' in d]\n",
    "print(len(data), len(dataset))"
   ]
  },
  {
   "cell_type": "code",
   "execution_count": 98,
   "id": "2634a063",
   "metadata": {},
   "outputs": [
    {
     "name": "stdout",
     "output_type": "stream",
     "text": [
      "161716 192544\n"
     ]
    }
   ],
   "source": [
    "# Drop all 'height' having null values\n",
    "data = [d for d in data if 'height' in d]\n",
    "print(len(data), len(dataset))"
   ]
  },
  {
   "cell_type": "code",
   "execution_count": 99,
   "id": "29129e87",
   "metadata": {},
   "outputs": [
    {
     "name": "stdout",
     "output_type": "stream",
     "text": [
      "153110 192544\n"
     ]
    }
   ],
   "source": [
    "# Drop all 'body type' having null values\n",
    "data = [d for d in data if 'body type' in d and d['body type'] != None]\n",
    "print(len(data), len(dataset))"
   ]
  },
  {
   "cell_type": "code",
   "execution_count": 100,
   "id": "0ec476c3",
   "metadata": {},
   "outputs": [
    {
     "name": "stdout",
     "output_type": "stream",
     "text": [
      "153100 192544\n"
     ]
    }
   ],
   "source": [
    "# Drop all 'rented for' having null values\n",
    "data = [d for d in data if 'rented for' in d and d['body type'] != None]\n",
    "print(len(data), len(dataset))"
   ]
  },
  {
   "cell_type": "code",
   "execution_count": 101,
   "id": "4b9b9f47",
   "metadata": {},
   "outputs": [],
   "source": [
    "for d in data:\n",
    "    # Convert 'rating' from string to int and change from 2,4,6,8,10 to 1,2,3,4,5\n",
    "    d['rating'] = int(d['rating']) // 2\n",
    "    # Convert 'age' from string to int\n",
    "    d['age'] = int(d['age'])\n",
    "    # Drop 'lbs' unit and convert 'weight' from str to int\n",
    "    d['weight'] = int(d['weight'][:-3])\n",
    "    # Drop unit and convert 'height' from str to int\n",
    "    feet,inch = re.findall(r'\\d+', d['height'])\n",
    "    d['height'] = int(feet) * 12 + int(inch)"
   ]
  },
  {
   "cell_type": "code",
   "execution_count": 102,
   "id": "2ce941f1",
   "metadata": {},
   "outputs": [],
   "source": [
    "# Pre-processing 'review_text' by ignoring capitalization and removing punctuation\n",
    "sp = set(string.punctuation)\n",
    "def cleanText(text):\n",
    "    text = ''.join([c for c in text.lower() if not c in sp])\n",
    "    return text"
   ]
  },
  {
   "cell_type": "code",
   "execution_count": 103,
   "id": "ce8cdfa7",
   "metadata": {},
   "outputs": [
    {
     "data": {
      "text/plain": [
       "{'fit': 'fit',\n",
       " 'user_id': '203660',\n",
       " 'bust size': '34c',\n",
       " 'item_id': '1126889',\n",
       " 'weight': 160,\n",
       " 'rating': 3,\n",
       " 'rented for': 'party',\n",
       " 'review_text': \"The dress is absolutely gorgeous, unfortunately the dress proportions were off for my height. I would have loved to wear this out, but I couldn't because the lengths were awkward on my body. \",\n",
       " 'body type': 'athletic',\n",
       " 'review_summary': 'Too Long',\n",
       " 'category': 'dress',\n",
       " 'height': 64,\n",
       " 'size': 12,\n",
       " 'age': 28,\n",
       " 'review_date': 'January 3, 2017'}"
      ]
     },
     "execution_count": 103,
     "metadata": {},
     "output_type": "execute_result"
    }
   ],
   "source": [
    "data[68]"
   ]
  },
  {
   "cell_type": "code",
   "execution_count": 104,
   "id": "cde48837",
   "metadata": {},
   "outputs": [
    {
     "name": "stdout",
     "output_type": "stream",
     "text": [
      "153100 192544\n"
     ]
    }
   ],
   "source": [
    "print(len(data), len(dataset)) "
   ]
  },
  {
   "cell_type": "markdown",
   "metadata": {},
   "source": [
    "# Latent Factor Model using TensorFlow"
   ]
  },
  {
   "cell_type": "code",
   "execution_count": 105,
   "metadata": {},
   "outputs": [],
   "source": [
    "# Train-valid and test split is 8/2\n",
    "# Train and valid split is 8/2 \n",
    "trainValidRatio = 0.8\n",
    "trainRatio = 0.8\n",
    "NTrainValid = int(len(data) * trainValidRatio)\n",
    "NTrain = int(NTrainValid * trainRatio)\n",
    "trainValidSet = data[:NTrainValid]\n",
    "trainSet = trainValidSet[:NTrain]\n",
    "validSet = trainValidSet[NTrain:]\n",
    "testSet = data[NTrainValid:]"
   ]
  },
  {
   "cell_type": "code",
   "execution_count": 106,
   "metadata": {},
   "outputs": [],
   "source": [
    "# Assign IDs\n",
    "userIds = {}\n",
    "itemIds = {}\n",
    "\n",
    "for d in dataset:\n",
    "    u = d['user_id']\n",
    "    i = d['item_id']\n",
    "    c = d['category']\n",
    "    f = d['fit']\n",
    "    if u not in userIds: userIds[u] = len(userIds)\n",
    "    if i not in itemIds: itemIds[i] = len(itemIds)"
   ]
  },
  {
   "cell_type": "code",
   "execution_count": 107,
   "metadata": {},
   "outputs": [],
   "source": [
    "trainAvgRating = sum([d['rating'] for d in trainSet]) / len(trainSet)"
   ]
  },
  {
   "cell_type": "code",
   "execution_count": 108,
   "metadata": {},
   "outputs": [],
   "source": [
    "class BaseLFRegression(tf.keras.Model):\n",
    "    def __init__(self, K, lamb1, lamb2, lossFun, optim):\n",
    "        super(BaseLFRegression, self).__init__()\n",
    "        # Initialize to average\n",
    "        self.alpha = tf.Variable(trainAvgRating)\n",
    "        # Initialize to small random values\n",
    "        numUsers = len(userIds)\n",
    "        numItems = len(itemIds)\n",
    "        self.betaU = tf.Variable(tf.random.normal([numUsers], stddev=1e-3))\n",
    "        self.betaI = tf.Variable(tf.random.normal([numItems], stddev=1e-3))\n",
    "        self.gammaU = tf.Variable(tf.random.normal([numUsers, K], stddev=1e-3))\n",
    "        self.gammaI = tf.Variable(tf.random.normal([numItems, K], stddev=1e-3))\n",
    "        self.lamb1 = lamb1\n",
    "        self.lamb2 = lamb2\n",
    "        self.lossFun = lossFun\n",
    "        self.optim = optim\n",
    "\n",
    "    # Prediction for a single instance (useful for evaluation)\n",
    "    def predict(self, u, i):\n",
    "        # alpha + betaU + betaI + gammaU dot gammaI\n",
    "        p = self.alpha + self.betaU[u] + self.betaI[i] +\\\n",
    "            tf.tensordot(self.gammaU[u], self.gammaI[i], 1)\n",
    "        return p\n",
    "\n",
    "    # Regularizer\n",
    "    def regularize(self):\n",
    "        return self.lamb1 * (tf.reduce_sum(self.betaU**2) + tf.reduce_sum(self.betaI**2)) +\\\n",
    "                self.lamb2 * (tf.reduce_sum(self.gammaU**2) + tf.reduce_sum(self.gammaI**2))\n",
    "    \n",
    "    # Loss\n",
    "    def call(self, sampleU, sampleI, sampleY):\n",
    "        u = tf.convert_to_tensor(sampleU, dtype=tf.int32)\n",
    "        i = tf.convert_to_tensor(sampleI, dtype=tf.int32)\n",
    "        beta_u = tf.nn.embedding_lookup(self.betaU, u)\n",
    "        beta_i = tf.nn.embedding_lookup(self.betaI, i)\n",
    "        gamma_u = tf.nn.embedding_lookup(self.gammaU, u)\n",
    "        gamma_i = tf.nn.embedding_lookup(self.gammaI, i)\n",
    "        pred = self.alpha + beta_u + beta_i +\\\n",
    "               tf.reduce_sum(tf.multiply(gamma_u, gamma_i), 1)\n",
    "        y = tf.convert_to_tensor(sampleY, dtype=tf.float32)\n",
    "        return self.lossFun(y, pred)\n",
    "    \n",
    "    def trainingStep(self, UBatch, IBatch, YBatch):\n",
    "        with tf.GradientTape() as tape:\n",
    "            # Compute loss(objective value)\n",
    "            loss = self(UBatch, IBatch, YBatch) + self.regularize()\n",
    "            # Do gradient descent\n",
    "            gradients = tape.gradient(loss, self.trainable_variables)\n",
    "            self.optim.apply_gradients((grad, var)\n",
    "                                    for (grad, var) in zip(gradients, self.trainable_variables)\n",
    "                                    if grad is not None)\n",
    "        return loss.numpy()\n",
    "    \n",
    "    def getBatches(self, batchSize, trainSet):\n",
    "        UBatches, IBatches, YBatches = [], [], []\n",
    "        numBatches = len(trainSet) // batchSize\n",
    "        for i in range(numBatches):\n",
    "            size = len(trainSet) - i*batchSize\n",
    "            batch = trainSet[i*batchSize : (i+1)*batchSize] if size > batchSize else trainSet[i*batchSize :]\n",
    "            UBatch, IBatch, YBatch = [], [], []\n",
    "            for d in batch:\n",
    "                UBatch.append(userIds[d['user_id']])\n",
    "                IBatch.append(itemIds[d['item_id']])\n",
    "                # The ratings are always even\n",
    "                YBatch.append(d['rating'])\n",
    "            UBatches.append(UBatch)\n",
    "            IBatches.append(IBatch)\n",
    "            YBatches.append(YBatch)\n",
    "        return UBatches, IBatches, YBatches\n",
    "    \n",
    "    def train(self, epochs, batchSize, trainSet, validSet):\n",
    "        trainLosses = []\n",
    "        validLosses = []\n",
    "        UBatches, IBatches, YBatches = self.getBatches(batchSize, trainSet)\n",
    "        numBatches = len(UBatches)\n",
    "        for i in range(epochs):\n",
    "            trainLoss = 0.\n",
    "            i = 0\n",
    "            for j in range(numBatches):\n",
    "                trainLoss += self.trainingStep(UBatches[j], IBatches[j], YBatches[j])\n",
    "                i += 1\n",
    "            trainLosses.append(trainLoss / i)\n",
    "            validLoss = self.eval(validSet)\n",
    "            validLosses.append(validLoss)\n",
    "            print(f\"epoch {i+1}, validation objective = {validLoss}\")\n",
    "        return trainLosses, validLosses\n",
    "\n",
    "    def eval(self, testSet):\n",
    "        pred, y = [], []\n",
    "        for d in testSet:\n",
    "            # The ratings are always even\n",
    "            p = self.predict(userIds[d['user_id']], itemIds[d['item_id']])\n",
    "            pred.append(p)\n",
    "            y.append(d['rating'])\n",
    "        loss = self.lossFun(tf.convert_to_tensor(y), tf.convert_to_tensor(pred))\n",
    "        return loss.numpy()"
   ]
  },
  {
   "cell_type": "code",
   "execution_count": 112,
   "metadata": {},
   "outputs": [
    {
     "name": "stdout",
     "output_type": "stream",
     "text": [
      "epoch 245, validation objective = 0.4916999638080597\n",
      "epoch 245, validation objective = 0.48932525515556335\n",
      "epoch 245, validation objective = 0.4904782772064209\n"
     ]
    },
    {
     "data": {
      "image/png": "[encoded data removed]",
      "text/plain": [
       "<Figure size 640x480 with 1 Axes>"
      ]
     },
     "metadata": {},
     "output_type": "display_data"
    }
   ],
   "source": [
    "lossFun = tf.keras.metrics.mean_squared_error\n",
    "optim = tf.keras.optimizers.Adam(5e-3)\n",
    "model = BaseLFRegression(K=5, lamb1=2.3e-5, lamb2=2.3e-4, lossFun=lossFun, optim=optim)\n",
    "trainLosses, validLosses = model.train(3, 400, trainSet, validSet)\n",
    "plt.plot(trainLosses, 'b')\n",
    "plt.plot(validLosses, 'r')\n",
    "plt.legend(['train', 'valid'])\n",
    "plt.title('Train vs valid loss')\n",
    "plt.ylim(0., 0.6)\n",
    "plt.show()"
   ]
  },
  {
   "cell_type": "code",
   "execution_count": 110,
   "metadata": {},
   "outputs": [
    {
     "data": {
      "text/plain": [
       "0.4918902"
      ]
     },
     "execution_count": 110,
     "metadata": {},
     "output_type": "execute_result"
    }
   ],
   "source": [
    "model.eval(testSet)"
   ]
  }
 ],
 "metadata": {
  "kernelspec": {
   "display_name": "Python 3 (ipykernel)",
   "language": "python",
   "name": "python3"
  },
  "language_info": {
   "codemirror_mode": {
    "name": "ipython",
    "version": 3
   },
   "file_extension": ".py",
   "mimetype": "text/x-python",
   "name": "python",
   "nbconvert_exporter": "python",
   "pygments_lexer": "ipython3",
   "version": "3.9.18"
  }
 },
 "nbformat": 4,
 "nbformat_minor": 5
}
