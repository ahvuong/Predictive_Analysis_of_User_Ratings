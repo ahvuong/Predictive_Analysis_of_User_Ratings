{
 "cells": [
  {
   "cell_type": "code",
   "execution_count": 1,
   "id": "a04176aa",
   "metadata": {},
   "outputs": [],
   "source": [
    "import json\n",
    "from collections import defaultdict\n",
    "from sklearn import linear_model\n",
    "import numpy\n",
    "import random\n",
    "import gzip\n",
    "import math\n",
    "import re\n",
    "import string"
   ]
  },
  {
   "cell_type": "code",
   "execution_count": 2,
   "id": "8eb8b4cb",
   "metadata": {},
   "outputs": [],
   "source": [
    "f = gzip.open(\"renttherunway_final_data.json.gz\")\n",
    "dataset = []\n",
    "for l in f:\n",
    "    dataset.append(json.loads(l))"
   ]
  },
  {
   "cell_type": "code",
   "execution_count": 3,
   "id": "a2dfac7b",
   "metadata": {},
   "outputs": [
    {
     "data": {
      "text/plain": [
       "{'fit': 'fit',\n",
       " 'user_id': '420272',\n",
       " 'bust size': '34d',\n",
       " 'item_id': '2260466',\n",
       " 'weight': '137lbs',\n",
       " 'rating': '10',\n",
       " 'rented for': 'vacation',\n",
       " 'review_text': \"An adorable romper! Belt and zipper were a little hard to navigate in a full day of wear/bathroom use, but that's to be expected. Wish it had pockets, but other than that-- absolutely perfect! I got a million compliments.\",\n",
       " 'body type': 'hourglass',\n",
       " 'review_summary': 'So many compliments!',\n",
       " 'category': 'romper',\n",
       " 'height': '5\\' 8\"',\n",
       " 'size': 14,\n",
       " 'age': '28',\n",
       " 'review_date': 'April 20, 2016'}"
      ]
     },
     "execution_count": 3,
     "metadata": {},
     "output_type": "execute_result"
    }
   ],
   "source": [
    "dataset[0]"
   ]
  },
  {
   "cell_type": "markdown",
   "id": "f571fefa",
   "metadata": {},
   "source": [
    "## Data Cleaning"
   ]
  },
  {
   "cell_type": "code",
   "execution_count": 4,
   "id": "56a50029",
   "metadata": {},
   "outputs": [],
   "source": [
    "# Pre-precessing the orginial data set \n",
    "data = dataset"
   ]
  },
  {
   "cell_type": "code",
   "execution_count": 5,
   "id": "93e88957",
   "metadata": {},
   "outputs": [
    {
     "name": "stdout",
     "output_type": "stream",
     "text": [
      "192462 192544\n"
     ]
    }
   ],
   "source": [
    "# Drop all ratings having null values\n",
    "data = [d for d in dataset if d['rating'] != None]\n",
    "print(len(data), len(dataset))"
   ]
  },
  {
   "cell_type": "code",
   "execution_count": 6,
   "id": "5fac0442",
   "metadata": {},
   "outputs": [
    {
     "name": "stdout",
     "output_type": "stream",
     "text": [
      "191503 192544\n"
     ]
    }
   ],
   "source": [
    "# Drop all 'age' having null values\n",
    "data = [d for d in data if 'age' in d]\n",
    "print(len(data), len(dataset))"
   ]
  },
  {
   "cell_type": "code",
   "execution_count": 7,
   "id": "b6a83192",
   "metadata": {},
   "outputs": [
    {
     "name": "stdout",
     "output_type": "stream",
     "text": [
      "162153 192544\n"
     ]
    }
   ],
   "source": [
    "# Drop all 'weight' having null values\n",
    "data = [d for d in data if 'weight' in d]\n",
    "print(len(data), len(dataset))"
   ]
  },
  {
   "cell_type": "code",
   "execution_count": 8,
   "id": "fea091cc",
   "metadata": {},
   "outputs": [
    {
     "name": "stdout",
     "output_type": "stream",
     "text": [
      "161716 192544\n"
     ]
    }
   ],
   "source": [
    "# Drop all 'height' having null values\n",
    "data = [d for d in data if 'height' in d]\n",
    "print(len(data), len(dataset))"
   ]
  },
  {
   "cell_type": "code",
   "execution_count": 9,
   "id": "a5822dc5",
   "metadata": {},
   "outputs": [
    {
     "name": "stdout",
     "output_type": "stream",
     "text": [
      "153110 192544\n"
     ]
    }
   ],
   "source": [
    "# Drop all 'body type' having null values\n",
    "data = [d for d in data if 'body type' in d and d['body type'] != None]\n",
    "print(len(data), len(dataset))"
   ]
  },
  {
   "cell_type": "code",
   "execution_count": 10,
   "id": "1e0dd34e",
   "metadata": {},
   "outputs": [
    {
     "name": "stdout",
     "output_type": "stream",
     "text": [
      "153100 192544\n"
     ]
    }
   ],
   "source": [
    "# Drop all 'rented for' having null values\n",
    "data = [d for d in data if 'rented for' in d and d['body type'] != None]\n",
    "print(len(data), len(dataset))"
   ]
  },
  {
   "cell_type": "code",
   "execution_count": 11,
   "id": "2732f2ff",
   "metadata": {},
   "outputs": [],
   "source": [
    "for d in data:\n",
    "    # Convert 'rating' from string to int and change from 2,4,6,8,10 to 1,2,3,4,5\n",
    "    d['rating'] = int(d['rating']) // 2\n",
    "    # Convert 'age' from string to int\n",
    "    d['age'] = int(d['age'])\n",
    "    # Drop 'lbs' unit and convert 'weight' from str to int\n",
    "    d['weight'] = int(d['weight'][:-3])\n",
    "    # Drop unit and convert 'height' from str to int\n",
    "    feet,inch = re.findall(r'\\d+', d['height'])\n",
    "    d['height'] = int(feet) * 12 + int(inch)"
   ]
  },
  {
   "cell_type": "code",
   "execution_count": 12,
   "id": "8c1b9817",
   "metadata": {},
   "outputs": [],
   "source": [
    "# Pre-processing 'review_text' by ignoring capitalization and removing punctuation\n",
    "sp = set(string.punctuation)\n",
    "def cleanText(text):\n",
    "    text = ''.join([c for c in text.lower() if not c in sp])\n",
    "    return text"
   ]
  },
  {
   "cell_type": "code",
   "execution_count": 13,
   "id": "17a38ec8",
   "metadata": {},
   "outputs": [
    {
     "data": {
      "text/plain": [
       "{'fit': 'fit',\n",
       " 'user_id': '203660',\n",
       " 'bust size': '34c',\n",
       " 'item_id': '1126889',\n",
       " 'weight': 160,\n",
       " 'rating': 3,\n",
       " 'rented for': 'party',\n",
       " 'review_text': \"The dress is absolutely gorgeous, unfortunately the dress proportions were off for my height. I would have loved to wear this out, but I couldn't because the lengths were awkward on my body. \",\n",
       " 'body type': 'athletic',\n",
       " 'review_summary': 'Too Long',\n",
       " 'category': 'dress',\n",
       " 'height': 64,\n",
       " 'size': 12,\n",
       " 'age': 28,\n",
       " 'review_date': 'January 3, 2017'}"
      ]
     },
     "execution_count": 13,
     "metadata": {},
     "output_type": "execute_result"
    }
   ],
   "source": [
    "data[68]"
   ]
  },
  {
   "cell_type": "code",
   "execution_count": 14,
   "id": "0de2b289",
   "metadata": {},
   "outputs": [
    {
     "name": "stdout",
     "output_type": "stream",
     "text": [
      "153100 192544\n"
     ]
    }
   ],
   "source": [
    "print(len(data), len(dataset)) "
   ]
  },
  {
   "cell_type": "markdown",
   "id": "3bb7b3b9",
   "metadata": {},
   "source": [
    "## Linear Regression Model"
   ]
  },
  {
   "cell_type": "code",
   "execution_count": 15,
   "id": "0da73a9c",
   "metadata": {},
   "outputs": [],
   "source": [
    "# use the one-hot encoding for 'fit' \n",
    "def feature(datum):\n",
    "    # ...\n",
    "    ft = [1] \n",
    "    ft.append(len(datum['review_text'])/max_length)\n",
    "    ft.append(datum['size'])\n",
    "    # ft.append(datum['height'])\n",
    "    ft.append(datum['weight'])\n",
    "    ft.append(1.0 * (datum['fit'] == 'small'))\n",
    "    ft.append(1.0 * (datum['fit'] == 'large'))\n",
    "    return ft"
   ]
  },
  {
   "cell_type": "code",
   "execution_count": 16,
   "id": "8ebb7aa3",
   "metadata": {},
   "outputs": [],
   "source": [
    "ratings = [d['rating'] for d in data]\n",
    "lengths = [len(d['review_text']) for d in data]\n",
    "max_length = max(lengths)"
   ]
  },
  {
   "cell_type": "code",
   "execution_count": 17,
   "id": "cff06113",
   "metadata": {},
   "outputs": [],
   "source": [
    "X = [feature(d) for d in data]\n",
    "Y = ratings"
   ]
  },
  {
   "cell_type": "code",
   "execution_count": 18,
   "id": "5f5cb9b9",
   "metadata": {},
   "outputs": [
    {
     "data": {
      "text/plain": [
       "0.48267930072288345"
      ]
     },
     "execution_count": 18,
     "metadata": {},
     "output_type": "execute_result"
    }
   ],
   "source": [
    "model = linear_model.LinearRegression(fit_intercept=False)\n",
    "model.fit(X, Y)\n",
    "y_pred = model.predict(X)\n",
    "sse = sum([x**2 for x in (Y - y_pred)])\n",
    "mse = sse / len(Y)\n",
    "mse"
   ]
  },
  {
   "cell_type": "code",
   "execution_count": 19,
   "id": "898336e2",
   "metadata": {},
   "outputs": [
    {
     "name": "stdout",
     "output_type": "stream",
     "text": [
      "i= 2  - Current MSE= 0.4804257977616084\n",
      "i= 3  - Current MSE= 0.4768978345806681\n",
      "i= 4  - Current MSE= 0.47165313243643536\n",
      "i= 5  - Current MSE= 0.4725679992027816\n",
      "i= 6  - Current MSE= 0.47484218254336413\n",
      "i= 7  - Current MSE= 0.4690256118406555\n",
      "i= 8  - Current MSE= 0.4686945463164344\n",
      "i= 9  - Current MSE= 0.4675537408238754\n"
     ]
    }
   ],
   "source": [
    "#  Looking for the right split \n",
    "ratio = 0 \n",
    "for i in range (2,10): \n",
    "    test2, train2 = X[:len(X)//i], X[len(X)//i:]\n",
    "    testY, trainY = Y[:len(Y)//i], Y[len(Y)//i:]\n",
    "    model2 = linear_model.LinearRegression(fit_intercept=False)\n",
    "    model2.fit(train2, trainY)\n",
    "    y2_pred = model2.predict(test2)\n",
    "    sse2 = sum([x**2 for x in (testY - y2_pred)])\n",
    "    currMSE = sse2 / len(testY)\n",
    "    print(\"i=\",i,\" - Current MSE=\", currMSE) \n",
    "    if currMSE < mse: \n",
    "        mse = currMSE \n",
    "        ratio = i "
   ]
  },
  {
   "cell_type": "code",
   "execution_count": 20,
   "id": "1db9b18c",
   "metadata": {},
   "outputs": [
    {
     "data": {
      "text/plain": [
       "(9, 0.4675537408238754)"
      ]
     },
     "execution_count": 20,
     "metadata": {},
     "output_type": "execute_result"
    }
   ],
   "source": [
    "ratio, mse"
   ]
  },
  {
   "cell_type": "code",
   "execution_count": 21,
   "id": "78d49407",
   "metadata": {},
   "outputs": [
    {
     "data": {
      "text/plain": [
       "0.4675537408238754"
      ]
     },
     "execution_count": 21,
     "metadata": {},
     "output_type": "execute_result"
    }
   ],
   "source": [
    "# Final result on validation set \n",
    "test2, train2 = X[:len(X)//ratio], X[len(X)//ratio:]\n",
    "testY, trainY = Y[:len(Y)//ratio], Y[len(Y)//ratio:]\n",
    "model2 = linear_model.LinearRegression(fit_intercept=False)\n",
    "model2.fit(train2, trainY)\n",
    "y2_pred = model2.predict(test2)\n",
    "sse2 = sum([x**2 for x in (testY - y2_pred)])\n",
    "currMSE = sse2 / len(testY)\n",
    "currMSE "
   ]
  },
  {
   "cell_type": "code",
   "execution_count": null,
   "id": "83b7155a",
   "metadata": {},
   "outputs": [],
   "source": []
  }
 ],
 "metadata": {
  "kernelspec": {
   "display_name": "Python 3 (ipykernel)",
   "language": "python",
   "name": "python3"
  },
  "language_info": {
   "codemirror_mode": {
    "name": "ipython",
    "version": 3
   },
   "file_extension": ".py",
   "mimetype": "text/x-python",
   "name": "python",
   "nbconvert_exporter": "python",
   "pygments_lexer": "ipython3",
   "version": "3.9.15"
  }
 },
 "nbformat": 4,
 "nbformat_minor": 5
}
