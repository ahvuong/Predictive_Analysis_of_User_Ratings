{
 "cells": [
  {
   "cell_type": "code",
   "execution_count": 1,
   "id": "586c242a",
   "metadata": {},
   "outputs": [],
   "source": [
    "import json\n",
    "from collections import defaultdict\n",
    "from sklearn import linear_model\n",
    "from sklearn.metrics import precision_score\n",
    "import numpy as np\n",
    "import random\n",
    "import gzip\n",
    "import dateutil.parser\n",
    "import math\n",
    "import matplotlib.pyplot as plt\n",
    "import string\n",
    "import re\n",
    "from nltk.stem.snowball import stopwords\n",
    "from sklearn.feature_extraction.text import CountVectorizer\n",
    "from sklearn.model_selection import train_test_split\n",
    "from sklearn.metrics import accuracy_score, mean_squared_error, mean_absolute_error\n",
    "from wordcloud import WordCloud, STOPWORDS\n",
    "from scipy.sparse import lil_matrix\n",
    "from gensim.models import Word2Vec"
   ]
  },
  {
   "cell_type": "code",
   "execution_count": 2,
   "id": "439314fa",
   "metadata": {},
   "outputs": [],
   "source": [
    "f = gzip.open(\"renttherunway_final_data.json.gz\")\n",
    "dataset = []\n",
    "for l in f:\n",
    "    dataset.append(json.loads(l))"
   ]
  },
  {
   "cell_type": "code",
   "execution_count": 3,
   "id": "b18c8a50",
   "metadata": {},
   "outputs": [
    {
     "data": {
      "text/plain": [
       "192544"
      ]
     },
     "execution_count": 3,
     "metadata": {},
     "output_type": "execute_result"
    }
   ],
   "source": [
    "len(dataset)"
   ]
  },
  {
   "cell_type": "code",
   "execution_count": 4,
   "id": "c9ac506f",
   "metadata": {
    "scrolled": true
   },
   "outputs": [
    {
     "data": {
      "text/plain": [
       "{'fit': 'fit',\n",
       " 'user_id': '420272',\n",
       " 'bust size': '34d',\n",
       " 'item_id': '2260466',\n",
       " 'weight': '137lbs',\n",
       " 'rating': '10',\n",
       " 'rented for': 'vacation',\n",
       " 'review_text': \"An adorable romper! Belt and zipper were a little hard to navigate in a full day of wear/bathroom use, but that's to be expected. Wish it had pockets, but other than that-- absolutely perfect! I got a million compliments.\",\n",
       " 'body type': 'hourglass',\n",
       " 'review_summary': 'So many compliments!',\n",
       " 'category': 'romper',\n",
       " 'height': '5\\' 8\"',\n",
       " 'size': 14,\n",
       " 'age': '28',\n",
       " 'review_date': 'April 20, 2016'}"
      ]
     },
     "execution_count": 4,
     "metadata": {},
     "output_type": "execute_result"
    }
   ],
   "source": [
    "dataset[0]"
   ]
  },
  {
   "cell_type": "markdown",
   "id": "5ec77d14",
   "metadata": {},
   "source": [
    "## Data Cleaning"
   ]
  },
  {
   "cell_type": "code",
   "execution_count": 5,
   "id": "1cae4bab",
   "metadata": {},
   "outputs": [],
   "source": [
    "data = dataset"
   ]
  },
  {
   "cell_type": "code",
   "execution_count": 6,
   "id": "fca5ace0",
   "metadata": {},
   "outputs": [
    {
     "name": "stdout",
     "output_type": "stream",
     "text": [
      "192462 192544\n"
     ]
    }
   ],
   "source": [
    "# Drop all ratings having null values\n",
    "data = [d for d in dataset if d['rating'] != None]\n",
    "print(len(data), len(dataset))"
   ]
  },
  {
   "cell_type": "code",
   "execution_count": 7,
   "id": "4d85d45c",
   "metadata": {},
   "outputs": [
    {
     "name": "stdout",
     "output_type": "stream",
     "text": [
      "191503 192544\n"
     ]
    }
   ],
   "source": [
    "# Drop all 'age' having null values\n",
    "data = [d for d in data if 'age' in d]\n",
    "print(len(data), len(dataset))"
   ]
  },
  {
   "cell_type": "code",
   "execution_count": 8,
   "id": "8d93155b",
   "metadata": {},
   "outputs": [
    {
     "name": "stdout",
     "output_type": "stream",
     "text": [
      "162153 192544\n"
     ]
    }
   ],
   "source": [
    "# Drop all 'weight' having null values\n",
    "data = [d for d in data if 'weight' in d]\n",
    "print(len(data), len(dataset))"
   ]
  },
  {
   "cell_type": "code",
   "execution_count": 9,
   "id": "2634a063",
   "metadata": {},
   "outputs": [
    {
     "name": "stdout",
     "output_type": "stream",
     "text": [
      "161716 192544\n"
     ]
    }
   ],
   "source": [
    "# Drop all 'height' having null values\n",
    "data = [d for d in data if 'height' in d]\n",
    "print(len(data), len(dataset))"
   ]
  },
  {
   "cell_type": "code",
   "execution_count": 10,
   "id": "29129e87",
   "metadata": {},
   "outputs": [
    {
     "name": "stdout",
     "output_type": "stream",
     "text": [
      "153110 192544\n"
     ]
    }
   ],
   "source": [
    "# Drop all 'body type' having null values\n",
    "data = [d for d in data if 'body type' in d and d['body type'] != None]\n",
    "print(len(data), len(dataset))"
   ]
  },
  {
   "cell_type": "code",
   "execution_count": 11,
   "id": "0ec476c3",
   "metadata": {},
   "outputs": [
    {
     "name": "stdout",
     "output_type": "stream",
     "text": [
      "153100 192544\n"
     ]
    }
   ],
   "source": [
    "# Drop all 'rented for' having null values\n",
    "data = [d for d in data if 'rented for' in d and d['body type'] != None]\n",
    "print(len(data), len(dataset))"
   ]
  },
  {
   "cell_type": "code",
   "execution_count": 12,
   "id": "4b9b9f47",
   "metadata": {},
   "outputs": [],
   "source": [
    "for d in data:\n",
    "    # Convert 'rating' from string to int and change from 2,4,6,8,10 to 1,2,3,4,5\n",
    "    d['rating'] = int(d['rating']) // 2\n",
    "    # Convert 'age' from string to int\n",
    "    d['age'] = int(d['age'])\n",
    "    # Drop 'lbs' unit and convert 'weight' from str to int\n",
    "    d['weight'] = int(d['weight'][:-3])\n",
    "    # Drop unit and convert 'height' from str to int\n",
    "    feet,inch = re.findall(r'\\d+', d['height'])\n",
    "    d['height'] = int(feet) * 12 + int(inch)"
   ]
  },
  {
   "cell_type": "code",
   "execution_count": 13,
   "id": "2ce941f1",
   "metadata": {},
   "outputs": [],
   "source": [
    "# Pre-processing 'review_text' by ignoring capitalization and removing punctuation\n",
    "sp = set(string.punctuation)\n",
    "def cleanText(text):\n",
    "    text = ''.join([c for c in text.lower() if not c in sp])\n",
    "    return text"
   ]
  },
  {
   "cell_type": "code",
   "execution_count": 14,
   "id": "ce8cdfa7",
   "metadata": {},
   "outputs": [
    {
     "data": {
      "text/plain": [
       "{'fit': 'fit',\n",
       " 'user_id': '203660',\n",
       " 'bust size': '34c',\n",
       " 'item_id': '1126889',\n",
       " 'weight': 160,\n",
       " 'rating': 3,\n",
       " 'rented for': 'party',\n",
       " 'review_text': \"The dress is absolutely gorgeous, unfortunately the dress proportions were off for my height. I would have loved to wear this out, but I couldn't because the lengths were awkward on my body. \",\n",
       " 'body type': 'athletic',\n",
       " 'review_summary': 'Too Long',\n",
       " 'category': 'dress',\n",
       " 'height': 64,\n",
       " 'size': 12,\n",
       " 'age': 28,\n",
       " 'review_date': 'January 3, 2017'}"
      ]
     },
     "execution_count": 14,
     "metadata": {},
     "output_type": "execute_result"
    }
   ],
   "source": [
    "data[68]"
   ]
  },
  {
   "cell_type": "code",
   "execution_count": 15,
   "id": "cde48837",
   "metadata": {},
   "outputs": [
    {
     "name": "stdout",
     "output_type": "stream",
     "text": [
      "153100 192544\n"
     ]
    }
   ],
   "source": [
    "print(len(data), len(dataset)) "
   ]
  },
  {
   "cell_type": "markdown",
   "id": "a8f3b0e2",
   "metadata": {},
   "source": [
    "### Bag-of-words Model"
   ]
  },
  {
   "cell_type": "code",
   "execution_count": 16,
   "id": "54b0f40b",
   "metadata": {},
   "outputs": [],
   "source": [
    "rf = defaultdict(int)\n",
    "bd = defaultdict(int)\n",
    "\n",
    "for d in data:    \n",
    "    rf[d['rented for']] += 1\n",
    "    bd[d['body type']] += 1\n",
    "\n",
    "bddict = bd.keys()\n",
    "rfdict = rf.keys()\n",
    "bddict = dict(zip(list(bddict),range(len(bddict))))\n",
    "rfdict = dict(zip(list(rfdict),range(len(rfdict))))"
   ]
  },
  {
   "cell_type": "code",
   "execution_count": 17,
   "id": "8961ad35",
   "metadata": {},
   "outputs": [
    {
     "data": {
      "text/plain": [
       "44407"
      ]
     },
     "execution_count": 17,
     "metadata": {},
     "output_type": "execute_result"
    }
   ],
   "source": [
    "wordCount = defaultdict(int)\n",
    "for d in data:\n",
    "    r = ''.join([c for c in d['review_text'].lower() if not c in sp])\n",
    "    for w in r.split():\n",
    "        wordCount[w] += 1\n",
    "\n",
    "len(wordCount)"
   ]
  },
  {
   "cell_type": "code",
   "execution_count": 18,
   "id": "a647c334",
   "metadata": {},
   "outputs": [],
   "source": [
    "counts = [(wordCount[w], w) for w in wordCount]\n",
    "counts.sort()\n",
    "counts.reverse()\n",
    "words = [x[1] for x in counts[:1000]]"
   ]
  },
  {
   "cell_type": "code",
   "execution_count": 19,
   "id": "f202c2d2",
   "metadata": {},
   "outputs": [],
   "source": [
    "wordId = dict(zip(words, range(len(words))))\n",
    "wordSet = set(words)"
   ]
  },
  {
   "cell_type": "markdown",
   "id": "dbadb4f2",
   "metadata": {},
   "source": [
    "## item2vec"
   ]
  },
  {
   "cell_type": "code",
   "execution_count": 20,
   "id": "989af36f",
   "metadata": {},
   "outputs": [],
   "source": [
    "random.shuffle(data)"
   ]
  },
  {
   "cell_type": "code",
   "execution_count": 21,
   "id": "95c7e016",
   "metadata": {},
   "outputs": [],
   "source": [
    "dataTrain = data[:int(len(data)*0.8)]\n",
    "dataTest = data[int(len(data)*0.8):]"
   ]
  },
  {
   "cell_type": "code",
   "execution_count": 22,
   "id": "eabb1bf1",
   "metadata": {},
   "outputs": [],
   "source": [
    "ratingMean = sum([d['rating'] for d in dataTrain]) / len(dataTrain)"
   ]
  },
  {
   "cell_type": "code",
   "execution_count": 23,
   "id": "867e4ef8",
   "metadata": {},
   "outputs": [],
   "source": [
    "itemAverages = defaultdict(list)\n",
    "reviewsPerUser = defaultdict(list)\n",
    "    \n",
    "for d in dataTrain:\n",
    "    i = d['item_id']\n",
    "    u = d['user_id']\n",
    "    itemAverages[i].append(d['rating'])\n",
    "    reviewsPerUser[u].append((i, d['rating']))\n",
    "    \n",
    "for i in itemAverages:\n",
    "    itemAverages[i] = sum(itemAverages[i]) / len(itemAverages[i])"
   ]
  },
  {
   "cell_type": "code",
   "execution_count": 24,
   "id": "d24d2928",
   "metadata": {},
   "outputs": [],
   "source": [
    "reviewLists = []\n",
    "for u in reviewsPerUser:\n",
    "    rl = list(reviewsPerUser[u])\n",
    "    rl.sort()\n",
    "    reviewLists.append([x[1] for x in rl])"
   ]
  },
  {
   "cell_type": "code",
   "execution_count": 25,
   "id": "6600ed20",
   "metadata": {},
   "outputs": [],
   "source": [
    "model10 = Word2Vec(reviewLists,\n",
    "                 min_count=5, # Words/items with fewer instances are discarded\n",
    "                 vector_size=10, # Model dimensionality\n",
    "                 window=3, # Window size\n",
    "                 sg=1) # Skip-gram model"
   ]
  },
  {
   "cell_type": "code",
   "execution_count": 26,
   "id": "b638470e",
   "metadata": {},
   "outputs": [],
   "source": [
    "def predictRating(user,item):\n",
    "    ratings = []\n",
    "    similarities = []\n",
    "    if not str(item) in model10.wv:\n",
    "        return ratingMean\n",
    "    for i,r in reviewsPerUser[user]:\n",
    "        i2 = i\n",
    "        if i2 == item: continue\n",
    "        ratings.append(r - itemAverages[i2])\n",
    "        if str(i2) in model10.wv:\n",
    "            similarities.append(model10.wv.distance(str(item), str(i2)))\n",
    "    if (sum(similarities) > 0):\n",
    "        weightedRatings = [(x*y) for x,y in zip(ratings,similarities)]\n",
    "        return itemAverages[item] + sum(weightedRatings) / sum(similarities)\n",
    "    else:\n",
    "        return ratingMean"
   ]
  },
  {
   "cell_type": "code",
   "execution_count": 27,
   "id": "56ed5dfc",
   "metadata": {},
   "outputs": [],
   "source": [
    "def MSE(predictions, labels):\n",
    "    differences = [(x-y)**2 for x,y in zip(predictions,labels)]\n",
    "    return sum(differences) / len(differences)"
   ]
  },
  {
   "cell_type": "code",
   "execution_count": 28,
   "id": "71ed03f6",
   "metadata": {},
   "outputs": [],
   "source": [
    "labels = [d['rating'] for d in dataTest]\n",
    "predictions = [predictRating(d['user_id'],d['item_id']) for d in dataTest]"
   ]
  },
  {
   "cell_type": "code",
   "execution_count": 29,
   "id": "49fd0eb0",
   "metadata": {},
   "outputs": [],
   "source": [
    "alwaysPredictMean = [ratingMean for _ in dataTest]"
   ]
  },
  {
   "cell_type": "code",
   "execution_count": 30,
   "id": "3f09efed",
   "metadata": {},
   "outputs": [
    {
     "data": {
      "text/plain": [
       "(0.5202420881389451, 0.5202420881389451)"
      ]
     },
     "execution_count": 30,
     "metadata": {},
     "output_type": "execute_result"
    }
   ],
   "source": [
    "mse1 = mean_squared_error(alwaysPredictMean, labels)\n",
    "mse2 = mean_squared_error(predictions, labels)\n",
    "mse1, mse2"
   ]
  },
  {
   "cell_type": "markdown",
   "id": "5311cde2",
   "metadata": {},
   "source": [
    "## Tfidf Model"
   ]
  },
  {
   "cell_type": "code",
   "execution_count": 31,
   "id": "6869faf8",
   "metadata": {},
   "outputs": [],
   "source": [
    "df = defaultdict(int)\n",
    "for d in data:\n",
    "    r = ''.join([c for c in d['review_text'].lower() if not c in sp])\n",
    "    for w in set(r.split()):\n",
    "        df[w] += 1"
   ]
  },
  {
   "cell_type": "code",
   "execution_count": 32,
   "id": "0fde8c6b",
   "metadata": {},
   "outputs": [],
   "source": [
    "def featTfidf(datum):\n",
    "    feat = [0]*len(words)\n",
    "    r = ''.join([c for c in datum['review_text'].lower() if not c in sp])\n",
    "    tokens = r.split()\n",
    "    for w in tokens:\n",
    "        if w in wordSet:\n",
    "            feat[wordId[w]] += 1 * math.log10(len(data) / df[w])\n",
    "    feat.append(1) #offset\n",
    "    return feat"
   ]
  },
  {
   "cell_type": "code",
   "execution_count": 33,
   "id": "439f3d3d",
   "metadata": {
    "scrolled": true
   },
   "outputs": [],
   "source": [
    "Xt = [featTfidf(d) for d in data]\n",
    "yt = [d['rating'] for d in data]"
   ]
  },
  {
   "cell_type": "code",
   "execution_count": 34,
   "id": "d2e5493a",
   "metadata": {},
   "outputs": [],
   "source": [
    "Xttrain, Xttest, yttrain, yttest = train_test_split(Xt, yt, test_size=0.2, random_state=42)"
   ]
  },
  {
   "cell_type": "code",
   "execution_count": 35,
   "id": "45fa7898",
   "metadata": {},
   "outputs": [
    {
     "data": {
      "text/plain": [
       "[0.32035752204149515,\n",
       " 0.17514703001325804,\n",
       " 0.07944591079715957,\n",
       " 0.9741681063775872,\n",
       " 0.5611151462276235,\n",
       " 0.9919763566446149,\n",
       " 0.047944061686267414,\n",
       " 0.22663521701730716,\n",
       " 0.3595267081827229,\n",
       " 0.785339655348197]"
      ]
     },
     "execution_count": 35,
     "metadata": {},
     "output_type": "execute_result"
    }
   ],
   "source": [
    "listC = [random.random() for i in range(0,10)]\n",
    "listC"
   ]
  },
  {
   "cell_type": "code",
   "execution_count": 36,
   "id": "084ff8f9",
   "metadata": {
    "scrolled": true
   },
   "outputs": [
    {
     "name": "stderr",
     "output_type": "stream",
     "text": [
      "c:\\Users\\anhho\\miniconda3\\lib\\site-packages\\sklearn\\linear_model\\_logistic.py:814: ConvergenceWarning: lbfgs failed to converge (status=1):\n",
      "STOP: TOTAL NO. of ITERATIONS REACHED LIMIT.\n",
      "\n",
      "Increase the number of iterations (max_iter) or scale the data as shown in:\n",
      "    https://scikit-learn.org/stable/modules/preprocessing.html\n",
      "Please also refer to the documentation for alternative solver options:\n",
      "    https://scikit-learn.org/stable/modules/linear_model.html#logistic-regression\n",
      "  n_iter_i = _check_optimize_result(\n"
     ]
    },
    {
     "name": "stdout",
     "output_type": "stream",
     "text": [
      "c= 0.32035752204149515  mse= 0.4809274983670803\n"
     ]
    },
    {
     "name": "stderr",
     "output_type": "stream",
     "text": [
      "c:\\Users\\anhho\\miniconda3\\lib\\site-packages\\sklearn\\linear_model\\_logistic.py:814: ConvergenceWarning: lbfgs failed to converge (status=1):\n",
      "STOP: TOTAL NO. of ITERATIONS REACHED LIMIT.\n",
      "\n",
      "Increase the number of iterations (max_iter) or scale the data as shown in:\n",
      "    https://scikit-learn.org/stable/modules/preprocessing.html\n",
      "Please also refer to the documentation for alternative solver options:\n",
      "    https://scikit-learn.org/stable/modules/linear_model.html#logistic-regression\n",
      "  n_iter_i = _check_optimize_result(\n"
     ]
    },
    {
     "name": "stdout",
     "output_type": "stream",
     "text": [
      "c= 0.17514703001325804  mse= 0.4776290006531679\n"
     ]
    },
    {
     "name": "stderr",
     "output_type": "stream",
     "text": [
      "c:\\Users\\anhho\\miniconda3\\lib\\site-packages\\sklearn\\linear_model\\_logistic.py:814: ConvergenceWarning: lbfgs failed to converge (status=1):\n",
      "STOP: TOTAL NO. of ITERATIONS REACHED LIMIT.\n",
      "\n",
      "Increase the number of iterations (max_iter) or scale the data as shown in:\n",
      "    https://scikit-learn.org/stable/modules/preprocessing.html\n",
      "Please also refer to the documentation for alternative solver options:\n",
      "    https://scikit-learn.org/stable/modules/linear_model.html#logistic-regression\n",
      "  n_iter_i = _check_optimize_result(\n"
     ]
    },
    {
     "name": "stdout",
     "output_type": "stream",
     "text": [
      "c= 0.07944591079715957  mse= 0.47802090137165254\n"
     ]
    },
    {
     "name": "stderr",
     "output_type": "stream",
     "text": [
      "c:\\Users\\anhho\\miniconda3\\lib\\site-packages\\sklearn\\linear_model\\_logistic.py:814: ConvergenceWarning: lbfgs failed to converge (status=1):\n",
      "STOP: TOTAL NO. of ITERATIONS REACHED LIMIT.\n",
      "\n",
      "Increase the number of iterations (max_iter) or scale the data as shown in:\n",
      "    https://scikit-learn.org/stable/modules/preprocessing.html\n",
      "Please also refer to the documentation for alternative solver options:\n",
      "    https://scikit-learn.org/stable/modules/linear_model.html#logistic-regression\n",
      "  n_iter_i = _check_optimize_result(\n"
     ]
    },
    {
     "name": "stdout",
     "output_type": "stream",
     "text": [
      "c= 0.9741681063775872  mse= 0.48020901371652513\n"
     ]
    },
    {
     "name": "stderr",
     "output_type": "stream",
     "text": [
      "c:\\Users\\anhho\\miniconda3\\lib\\site-packages\\sklearn\\linear_model\\_logistic.py:814: ConvergenceWarning: lbfgs failed to converge (status=1):\n",
      "STOP: TOTAL NO. of ITERATIONS REACHED LIMIT.\n",
      "\n",
      "Increase the number of iterations (max_iter) or scale the data as shown in:\n",
      "    https://scikit-learn.org/stable/modules/preprocessing.html\n",
      "Please also refer to the documentation for alternative solver options:\n",
      "    https://scikit-learn.org/stable/modules/linear_model.html#logistic-regression\n",
      "  n_iter_i = _check_optimize_result(\n"
     ]
    },
    {
     "name": "stdout",
     "output_type": "stream",
     "text": [
      "c= 0.5611151462276235  mse= 0.4788047028086218\n"
     ]
    },
    {
     "name": "stderr",
     "output_type": "stream",
     "text": [
      "c:\\Users\\anhho\\miniconda3\\lib\\site-packages\\sklearn\\linear_model\\_logistic.py:814: ConvergenceWarning: lbfgs failed to converge (status=1):\n",
      "STOP: TOTAL NO. of ITERATIONS REACHED LIMIT.\n",
      "\n",
      "Increase the number of iterations (max_iter) or scale the data as shown in:\n",
      "    https://scikit-learn.org/stable/modules/preprocessing.html\n",
      "Please also refer to the documentation for alternative solver options:\n",
      "    https://scikit-learn.org/stable/modules/linear_model.html#logistic-regression\n",
      "  n_iter_i = _check_optimize_result(\n"
     ]
    },
    {
     "name": "stdout",
     "output_type": "stream",
     "text": [
      "c= 0.9919763566446149  mse= 0.47854343566296537\n"
     ]
    },
    {
     "name": "stderr",
     "output_type": "stream",
     "text": [
      "c:\\Users\\anhho\\miniconda3\\lib\\site-packages\\sklearn\\linear_model\\_logistic.py:814: ConvergenceWarning: lbfgs failed to converge (status=1):\n",
      "STOP: TOTAL NO. of ITERATIONS REACHED LIMIT.\n",
      "\n",
      "Increase the number of iterations (max_iter) or scale the data as shown in:\n",
      "    https://scikit-learn.org/stable/modules/preprocessing.html\n",
      "Please also refer to the documentation for alternative solver options:\n",
      "    https://scikit-learn.org/stable/modules/linear_model.html#logistic-regression\n",
      "  n_iter_i = _check_optimize_result(\n"
     ]
    },
    {
     "name": "stdout",
     "output_type": "stream",
     "text": [
      "c= 0.047944061686267414  mse= 0.4792292619203135\n"
     ]
    },
    {
     "name": "stderr",
     "output_type": "stream",
     "text": [
      "c:\\Users\\anhho\\miniconda3\\lib\\site-packages\\sklearn\\linear_model\\_logistic.py:814: ConvergenceWarning: lbfgs failed to converge (status=1):\n",
      "STOP: TOTAL NO. of ITERATIONS REACHED LIMIT.\n",
      "\n",
      "Increase the number of iterations (max_iter) or scale the data as shown in:\n",
      "    https://scikit-learn.org/stable/modules/preprocessing.html\n",
      "Please also refer to the documentation for alternative solver options:\n",
      "    https://scikit-learn.org/stable/modules/linear_model.html#logistic-regression\n",
      "  n_iter_i = _check_optimize_result(\n"
     ]
    },
    {
     "name": "stdout",
     "output_type": "stream",
     "text": [
      "c= 0.22663521701730716  mse= 0.47926192031352055\n"
     ]
    },
    {
     "name": "stderr",
     "output_type": "stream",
     "text": [
      "c:\\Users\\anhho\\miniconda3\\lib\\site-packages\\sklearn\\linear_model\\_logistic.py:814: ConvergenceWarning: lbfgs failed to converge (status=1):\n",
      "STOP: TOTAL NO. of ITERATIONS REACHED LIMIT.\n",
      "\n",
      "Increase the number of iterations (max_iter) or scale the data as shown in:\n",
      "    https://scikit-learn.org/stable/modules/preprocessing.html\n",
      "Please also refer to the documentation for alternative solver options:\n",
      "    https://scikit-learn.org/stable/modules/linear_model.html#logistic-regression\n",
      "  n_iter_i = _check_optimize_result(\n"
     ]
    },
    {
     "name": "stdout",
     "output_type": "stream",
     "text": [
      "c= 0.3595267081827229  mse= 0.4800783801436969\n"
     ]
    },
    {
     "name": "stderr",
     "output_type": "stream",
     "text": [
      "c:\\Users\\anhho\\miniconda3\\lib\\site-packages\\sklearn\\linear_model\\_logistic.py:814: ConvergenceWarning: lbfgs failed to converge (status=1):\n",
      "STOP: TOTAL NO. of ITERATIONS REACHED LIMIT.\n",
      "\n",
      "Increase the number of iterations (max_iter) or scale the data as shown in:\n",
      "    https://scikit-learn.org/stable/modules/preprocessing.html\n",
      "Please also refer to the documentation for alternative solver options:\n",
      "    https://scikit-learn.org/stable/modules/linear_model.html#logistic-regression\n",
      "  n_iter_i = _check_optimize_result(\n"
     ]
    },
    {
     "name": "stdout",
     "output_type": "stream",
     "text": [
      "c= 0.785339655348197  mse= 0.4807968647942521\n"
     ]
    },
    {
     "data": {
      "text/plain": [
       "0.4776290006531679"
      ]
     },
     "execution_count": 36,
     "metadata": {},
     "output_type": "execute_result"
    }
   ],
   "source": [
    "bestMSE = float('inf')\n",
    "\n",
    "for c in listC:\n",
    "    mod = linear_model.LogisticRegression(C=c)\n",
    "    mod.fit(Xttrain,yttrain)\n",
    "    pred = mod.predict(Xttest)\n",
    "    mse = mean_squared_error(yttest, pred)\n",
    "    print('c=', c,' mse=',mse)\n",
    "    \n",
    "    if mse < bestMSE:\n",
    "        bestMSE = mse\n",
    "bestMSE"
   ]
  },
  {
   "cell_type": "markdown",
   "id": "fc190503",
   "metadata": {},
   "source": [
    "## Simple Sentiment Analysis pipeline combined with Logistic Regression Model"
   ]
  },
  {
   "cell_type": "code",
   "execution_count": 37,
   "id": "5a2567f9",
   "metadata": {},
   "outputs": [],
   "source": [
    "random.shuffle(data)"
   ]
  },
  {
   "cell_type": "code",
   "execution_count": 38,
   "id": "de57956b",
   "metadata": {},
   "outputs": [],
   "source": [
    "def feature(datum, words, wordId, tolower=True, removePunct=True):\n",
    "    feat = [0]*len(words)\n",
    "    r = datum['review_text']\n",
    "    if tolower:\n",
    "        r = r.lower()\n",
    "    if removePunct:\n",
    "        r = ''.join([c for c in r if not c in sp])\n",
    "    for w in r.split():\n",
    "        if w in words:\n",
    "            feat[wordId[w]] += 1\n",
    "    feat.append(1) # offset\n",
    "    return feat"
   ]
  },
  {
   "cell_type": "code",
   "execution_count": 39,
   "id": "7d8ff7b8",
   "metadata": {},
   "outputs": [],
   "source": [
    "def pipeline(dSize = 1000, tolower=True, removePunct=True):\n",
    "    wordCount = defaultdict(int)\n",
    "    punctuation = set(string.punctuation)\n",
    "    for d in data: # Strictly, should just use the *training* data to extract word counts\n",
    "        r = d['review_text']\n",
    "        if tolower:\n",
    "            r = r.lower()\n",
    "        if removePunct:\n",
    "            r = ''.join([c for c in r if not c in sp])\n",
    "        for w in r.split():\n",
    "            wordCount[w] += 1\n",
    "\n",
    "    counts = [(wordCount[w], w) for w in wordCount]\n",
    "    counts.sort()\n",
    "    counts.reverse()\n",
    "    \n",
    "    words = [x[1] for x in counts[:dSize]]\n",
    "    \n",
    "    wordId = dict(zip(words, range(len(words))))\n",
    "    wordSet = set(words)\n",
    "    \n",
    "    X = [feature(d, words, wordId, tolower, removePunct) for d in data]\n",
    "    y = [d['rating'] for d in data]\n",
    "    \n",
    "    # Train, Valid, and Test are splitted of 60:20:20\n",
    "    #Xtrain, Xtmp, ytrain, Ytmp = train_test_split(X, y, train_size=0.6, random_state=42)\n",
    "    #Xvalid, Xtest, yvalid, ytest   = train_test_split(Xtmp, Ytmp, train_size=0.5, random_state=42)\n",
    "    \n",
    "    N = int(len(data)*0.8) #122480\n",
    "    Ntrain = int(N*0.8) #97984 \n",
    "    Nvalid = N - Ntrain #24496\n",
    "    Xtrain,Xvalid,Xtest = X[:Ntrain],X[Ntrain:Ntrain+Nvalid],X[Ntrain+Nvalid:]\n",
    "    ytrain,yvalid,ytest = y[:Ntrain],y[Ntrain:Ntrain+Nvalid],y[Ntrain+Nvalid:]\n",
    "\n",
    "    bestModel = None\n",
    "    bestVal = None\n",
    "    bestLamb = None\n",
    "    \n",
    "    ls = [0.001, 0.01, 0.1, 1, 10, 100, 1000, 10000]\n",
    "    errorTrain = []\n",
    "    errorValid = []\n",
    "\n",
    "    for l in ls:\n",
    "        model = linear_model.LogisticRegression(C=l)\n",
    "        model.fit(Xtrain, ytrain)\n",
    "        predictTrain = model.predict(Xtrain)\n",
    "        MSEtrain = sum((ytrain - predictTrain)**2)/len(ytrain)\n",
    "        errorTrain.append(MSEtrain)\n",
    "        predictValid = model.predict(Xvalid)\n",
    "        MSEvalid = sum((yvalid - predictValid)**2)/len(yvalid)\n",
    "        errorValid.append(MSEvalid)\n",
    "        print(\"l = \" + str(l) + \", validation MSE = \" + str(MSEvalid))\n",
    "        \n",
    "        if bestVal == None or MSEvalid < bestVal:\n",
    "            bestVal = MSEvalid\n",
    "            bestModel = model\n",
    "            bestLamb = l\n",
    "      \n",
    "    predictTest = bestModel.predict(Xtest)\n",
    "    MSEtest = sum((ytest - predictTest)**2)/len(ytest)\n",
    "    MSEtest\n",
    "    \n",
    "    plt.xticks([])\n",
    "    plt.xlabel(r\"$\\lambda$\")\n",
    "    plt.ylabel(r\"error (MSE)\")\n",
    "    plt.title(r\"Validation Pipeline\")\n",
    "    plt.xscale('log')\n",
    "    plt.plot(ls, errorTrain, color='k', linestyle='--', label='training error')\n",
    "    plt.plot(ls, errorValid, color='grey',zorder=4,label=\"validation error\")\n",
    "    plt.plot([bestLamb], [MSEtest], linestyle='', marker='x', color='k', label=\"test error\")\n",
    "    plt.legend(loc='best')\n",
    "    plt.show()\n",
    "\n",
    "    return MSEtest, bestVal, bestLamb, bestModel"
   ]
  },
  {
   "cell_type": "code",
   "execution_count": 40,
   "id": "c0b535c0",
   "metadata": {
    "scrolled": false
   },
   "outputs": [
    {
     "name": "stderr",
     "output_type": "stream",
     "text": [
      "c:\\Users\\anhho\\miniconda3\\lib\\site-packages\\sklearn\\linear_model\\_logistic.py:814: ConvergenceWarning: lbfgs failed to converge (status=1):\n",
      "STOP: TOTAL NO. of ITERATIONS REACHED LIMIT.\n",
      "\n",
      "Increase the number of iterations (max_iter) or scale the data as shown in:\n",
      "    https://scikit-learn.org/stable/modules/preprocessing.html\n",
      "Please also refer to the documentation for alternative solver options:\n",
      "    https://scikit-learn.org/stable/modules/linear_model.html#logistic-regression\n",
      "  n_iter_i = _check_optimize_result(\n"
     ]
    },
    {
     "name": "stdout",
     "output_type": "stream",
     "text": [
      "l = 0.001, validation MSE = 0.5628674069235794\n"
     ]
    },
    {
     "name": "stderr",
     "output_type": "stream",
     "text": [
      "c:\\Users\\anhho\\miniconda3\\lib\\site-packages\\sklearn\\linear_model\\_logistic.py:814: ConvergenceWarning: lbfgs failed to converge (status=1):\n",
      "STOP: TOTAL NO. of ITERATIONS REACHED LIMIT.\n",
      "\n",
      "Increase the number of iterations (max_iter) or scale the data as shown in:\n",
      "    https://scikit-learn.org/stable/modules/preprocessing.html\n",
      "Please also refer to the documentation for alternative solver options:\n",
      "    https://scikit-learn.org/stable/modules/linear_model.html#logistic-regression\n",
      "  n_iter_i = _check_optimize_result(\n"
     ]
    },
    {
     "name": "stdout",
     "output_type": "stream",
     "text": [
      "l = 0.01, validation MSE = 0.49322338340953625\n"
     ]
    },
    {
     "name": "stderr",
     "output_type": "stream",
     "text": [
      "c:\\Users\\anhho\\miniconda3\\lib\\site-packages\\sklearn\\linear_model\\_logistic.py:814: ConvergenceWarning: lbfgs failed to converge (status=1):\n",
      "STOP: TOTAL NO. of ITERATIONS REACHED LIMIT.\n",
      "\n",
      "Increase the number of iterations (max_iter) or scale the data as shown in:\n",
      "    https://scikit-learn.org/stable/modules/preprocessing.html\n",
      "Please also refer to the documentation for alternative solver options:\n",
      "    https://scikit-learn.org/stable/modules/linear_model.html#logistic-regression\n",
      "  n_iter_i = _check_optimize_result(\n"
     ]
    },
    {
     "name": "stdout",
     "output_type": "stream",
     "text": [
      "l = 0.1, validation MSE = 0.4828135205747877\n"
     ]
    },
    {
     "name": "stderr",
     "output_type": "stream",
     "text": [
      "c:\\Users\\anhho\\miniconda3\\lib\\site-packages\\sklearn\\linear_model\\_logistic.py:814: ConvergenceWarning: lbfgs failed to converge (status=1):\n",
      "STOP: TOTAL NO. of ITERATIONS REACHED LIMIT.\n",
      "\n",
      "Increase the number of iterations (max_iter) or scale the data as shown in:\n",
      "    https://scikit-learn.org/stable/modules/preprocessing.html\n",
      "Please also refer to the documentation for alternative solver options:\n",
      "    https://scikit-learn.org/stable/modules/linear_model.html#logistic-regression\n",
      "  n_iter_i = _check_optimize_result(\n"
     ]
    },
    {
     "name": "stdout",
     "output_type": "stream",
     "text": [
      "l = 1, validation MSE = 0.4754245591116917\n"
     ]
    },
    {
     "name": "stderr",
     "output_type": "stream",
     "text": [
      "c:\\Users\\anhho\\miniconda3\\lib\\site-packages\\sklearn\\linear_model\\_logistic.py:814: ConvergenceWarning: lbfgs failed to converge (status=1):\n",
      "STOP: TOTAL NO. of ITERATIONS REACHED LIMIT.\n",
      "\n",
      "Increase the number of iterations (max_iter) or scale the data as shown in:\n",
      "    https://scikit-learn.org/stable/modules/preprocessing.html\n",
      "Please also refer to the documentation for alternative solver options:\n",
      "    https://scikit-learn.org/stable/modules/linear_model.html#logistic-regression\n",
      "  n_iter_i = _check_optimize_result(\n"
     ]
    },
    {
     "name": "stdout",
     "output_type": "stream",
     "text": [
      "l = 10, validation MSE = 0.47387328543435664\n"
     ]
    },
    {
     "name": "stderr",
     "output_type": "stream",
     "text": [
      "c:\\Users\\anhho\\miniconda3\\lib\\site-packages\\sklearn\\linear_model\\_logistic.py:814: ConvergenceWarning: lbfgs failed to converge (status=1):\n",
      "STOP: TOTAL NO. of ITERATIONS REACHED LIMIT.\n",
      "\n",
      "Increase the number of iterations (max_iter) or scale the data as shown in:\n",
      "    https://scikit-learn.org/stable/modules/preprocessing.html\n",
      "Please also refer to the documentation for alternative solver options:\n",
      "    https://scikit-learn.org/stable/modules/linear_model.html#logistic-regression\n",
      "  n_iter_i = _check_optimize_result(\n"
     ]
    },
    {
     "name": "stdout",
     "output_type": "stream",
     "text": [
      "l = 100, validation MSE = 0.47452645329849774\n"
     ]
    },
    {
     "name": "stderr",
     "output_type": "stream",
     "text": [
      "c:\\Users\\anhho\\miniconda3\\lib\\site-packages\\sklearn\\linear_model\\_logistic.py:814: ConvergenceWarning: lbfgs failed to converge (status=1):\n",
      "STOP: TOTAL NO. of ITERATIONS REACHED LIMIT.\n",
      "\n",
      "Increase the number of iterations (max_iter) or scale the data as shown in:\n",
      "    https://scikit-learn.org/stable/modules/preprocessing.html\n",
      "Please also refer to the documentation for alternative solver options:\n",
      "    https://scikit-learn.org/stable/modules/linear_model.html#logistic-regression\n",
      "  n_iter_i = _check_optimize_result(\n"
     ]
    },
    {
     "name": "stdout",
     "output_type": "stream",
     "text": [
      "l = 1000, validation MSE = 0.4746489222730242\n"
     ]
    },
    {
     "name": "stderr",
     "output_type": "stream",
     "text": [
      "c:\\Users\\anhho\\miniconda3\\lib\\site-packages\\sklearn\\linear_model\\_logistic.py:814: ConvergenceWarning: lbfgs failed to converge (status=1):\n",
      "STOP: TOTAL NO. of ITERATIONS REACHED LIMIT.\n",
      "\n",
      "Increase the number of iterations (max_iter) or scale the data as shown in:\n",
      "    https://scikit-learn.org/stable/modules/preprocessing.html\n",
      "Please also refer to the documentation for alternative solver options:\n",
      "    https://scikit-learn.org/stable/modules/linear_model.html#logistic-regression\n",
      "  n_iter_i = _check_optimize_result(\n"
     ]
    },
    {
     "name": "stdout",
     "output_type": "stream",
     "text": [
      "l = 10000, validation MSE = 0.4754653821032005\n"
     ]
    },
    {
     "data": {
      "image/png": "[encoded data removed]",
      "text/plain": [
       "<Figure size 640x480 with 1 Axes>"
      ]
     },
     "metadata": {},
     "output_type": "display_data"
    }
   ],
   "source": [
    "MSEtest, bestVal, bestLamb, bestModel = pipeline(1000, True, True)"
   ]
  },
  {
   "cell_type": "code",
   "execution_count": 41,
   "id": "5db8c1e5",
   "metadata": {},
   "outputs": [
    {
     "data": {
      "text/plain": [
       "0.47387328543435664"
      ]
     },
     "execution_count": 41,
     "metadata": {},
     "output_type": "execute_result"
    }
   ],
   "source": [
    "bestVal"
   ]
  },
  {
   "cell_type": "markdown",
   "id": "90e9bc90",
   "metadata": {},
   "source": [
    "## Sentiment Analysis combined with Linear Regression Model"
   ]
  },
  {
   "cell_type": "code",
   "execution_count": 42,
   "id": "0e5100c2",
   "metadata": {},
   "outputs": [],
   "source": [
    "def feat(datum):\n",
    "    feat = [0]*len(words)\n",
    "    r = ''.join([c for c in datum['review_text'].lower() if not c in sp])\n",
    "    for w in r.split():\n",
    "        if w in words:\n",
    "            feat[wordId[w]] += 1\n",
    "    feat.append(1) # offset\n",
    "    return feat"
   ]
  },
  {
   "cell_type": "code",
   "execution_count": 43,
   "id": "648e716b",
   "metadata": {},
   "outputs": [],
   "source": [
    "X = [feat(d) for d in data]\n",
    "y = [d['rating'] for d in data]\n",
    "\n",
    "Xtrain, Xtest, ytrain, ytest = train_test_split(X, y, test_size=0.2, random_state=42)"
   ]
  },
  {
   "cell_type": "code",
   "execution_count": 44,
   "id": "134ecf9f",
   "metadata": {},
   "outputs": [],
   "source": [
    "# Linear regression\n",
    "clf = linear_model.LinearRegression(fit_intercept=False)\n",
    "clf.fit(Xtrain, ytrain)\n",
    "theta = clf.coef_\n",
    "ypred = clf.predict(Xtest)\n",
    "mse = mean_squared_error(ytest, ypred)"
   ]
  },
  {
   "cell_type": "code",
   "execution_count": 45,
   "id": "f77a922e",
   "metadata": {},
   "outputs": [
    {
     "data": {
      "text/plain": [
       "0.37669899194880746"
      ]
     },
     "execution_count": 45,
     "metadata": {},
     "output_type": "execute_result"
    }
   ],
   "source": [
    "mse"
   ]
  },
  {
   "cell_type": "code",
   "execution_count": 46,
   "id": "a7f464d5",
   "metadata": {},
   "outputs": [],
   "source": [
    "def feat1(datum):\n",
    "    feat = [0]*len(words)\n",
    "    r = ''.join([c for c in datum['review_text'].lower() if not c in sp])\n",
    "    for w in r.split():\n",
    "        if w in words:\n",
    "            feat[wordId[w]] += 1\n",
    "\n",
    "    feat.append(bddict[datum['body type']])\n",
    "    \n",
    "    feat.append(1) # offset\n",
    "    return feat"
   ]
  },
  {
   "cell_type": "code",
   "execution_count": 47,
   "id": "679ec716",
   "metadata": {},
   "outputs": [],
   "source": [
    "X2 = [feat1(d) for d in data]\n",
    "y2 = [d['rating'] for d in data]\n",
    "\n",
    "Xtrain2, Xtest2, ytrain2, ytest2 = train_test_split(X2, y2, test_size=0.2, random_state=42)"
   ]
  },
  {
   "cell_type": "code",
   "execution_count": 48,
   "id": "fd9b3851",
   "metadata": {},
   "outputs": [],
   "source": [
    "# Linear regression\n",
    "clf2 = linear_model.LinearRegression(fit_intercept=False)\n",
    "clf2.fit(Xtrain2, ytrain2)\n",
    "theta2 = clf2.coef_\n",
    "ypred2 = clf2.predict(Xtest2)\n",
    "mse2 = mean_squared_error(ytest2, ypred2)"
   ]
  },
  {
   "cell_type": "code",
   "execution_count": 49,
   "id": "7cb55ce6",
   "metadata": {},
   "outputs": [
    {
     "data": {
      "text/plain": [
       "0.3766962024059741"
      ]
     },
     "execution_count": 49,
     "metadata": {},
     "output_type": "execute_result"
    }
   ],
   "source": [
    "mse2"
   ]
  },
  {
   "cell_type": "code",
   "execution_count": 50,
   "id": "9454b588",
   "metadata": {
    "scrolled": false
   },
   "outputs": [
    {
     "data": {
      "text/plain": [
       "{'gown': 0,\n",
       " 'dress': 1,\n",
       " 'maxi': 2,\n",
       " 'jacket': 3,\n",
       " 'sheath': 4,\n",
       " 'jumpsuit': 5,\n",
       " 'top': 6,\n",
       " 'mini': 7,\n",
       " 'shift': 8,\n",
       " 'romper': 9,\n",
       " 'skirt': 10}"
      ]
     },
     "execution_count": 50,
     "metadata": {},
     "output_type": "execute_result"
    }
   ],
   "source": [
    "categoryCounts = defaultdict(int)\n",
    "for d in data:\n",
    "    categoryCounts[d['category']] += 1\n",
    "categories = [c for c in categoryCounts if categoryCounts[c] > 1000]\n",
    "catID = dict(zip(list(categories),range(len(categories))))\n",
    "catID"
   ]
  },
  {
   "cell_type": "code",
   "execution_count": 51,
   "id": "8cd59d60",
   "metadata": {},
   "outputs": [],
   "source": [
    "def feat2(datum):\n",
    "    feat = [0]*len(words)\n",
    "    r = ''.join([c for c in datum['review_text'].lower() if not c in sp])\n",
    "    for w in r.split():\n",
    "        if w in words:\n",
    "            feat[wordId[w]] += 1\n",
    "    \n",
    "    feat.append(bddict[datum['body type']])\n",
    "    \n",
    "    feat1 = [0] * len(catID)\n",
    "    if d['category'] in catID:\n",
    "        feat1[catID[d['category']]] = 1\n",
    "    feat.extend(feat1)\n",
    "    \n",
    "    feat.append(1) # offset\n",
    "    return feat"
   ]
  },
  {
   "cell_type": "code",
   "execution_count": 52,
   "id": "418f67db",
   "metadata": {},
   "outputs": [],
   "source": [
    "X3 = [feat2(d) for d in data]\n",
    "y3 = [d['rating'] for d in data]"
   ]
  },
  {
   "cell_type": "code",
   "execution_count": 53,
   "id": "7bf07da3",
   "metadata": {},
   "outputs": [],
   "source": [
    "Xtrain3, Xtest3, ytrain3, ytest3 = train_test_split(X3, y3, test_size=0.2, random_state=42)"
   ]
  },
  {
   "cell_type": "code",
   "execution_count": 54,
   "id": "d915823d",
   "metadata": {},
   "outputs": [
    {
     "data": {
      "text/plain": [
       "0.3766941964390288"
      ]
     },
     "execution_count": 54,
     "metadata": {},
     "output_type": "execute_result"
    }
   ],
   "source": [
    "# Linear regression\n",
    "clf3 = linear_model.LinearRegression(fit_intercept=False)\n",
    "clf3.fit(Xtrain3, ytrain3)\n",
    "theta3 = clf3.coef_\n",
    "ypred3 = clf3.predict(Xtest3)\n",
    "mse3 = mean_squared_error(ytest3, ypred3)\n",
    "mse3"
   ]
  },
  {
   "cell_type": "code",
   "execution_count": 55,
   "id": "731dc77b",
   "metadata": {},
   "outputs": [
    {
     "data": {
      "text/plain": [
       "({'vacation': 0,\n",
       "  'other': 1,\n",
       "  'formal affair': 2,\n",
       "  'wedding': 3,\n",
       "  'date': 4,\n",
       "  'everyday': 5,\n",
       "  'party': 6,\n",
       "  'work': 7,\n",
       "  'party: cocktail': 8},\n",
       " {'hourglass': 0,\n",
       "  'straight & narrow': 1,\n",
       "  'pear': 2,\n",
       "  'athletic': 3,\n",
       "  'full bust': 4,\n",
       "  'petite': 5,\n",
       "  'apple': 6})"
      ]
     },
     "execution_count": 55,
     "metadata": {},
     "output_type": "execute_result"
    }
   ],
   "source": [
    "rfdict, bddict"
   ]
  },
  {
   "cell_type": "code",
   "execution_count": 56,
   "id": "b82c94f8",
   "metadata": {},
   "outputs": [],
   "source": [
    "def feat3(datum):\n",
    "    feat = [0]*len(words)\n",
    "    r = ''.join([c for c in datum['review_text'].lower() if not c in sp])\n",
    "    for w in r.split():\n",
    "        if w in words:\n",
    "            feat[wordId[w]] += 1\n",
    "    \n",
    "    feat.append(bddict[datum['body type']])\n",
    "    feat.append(rfdict[datum['rented for']])\n",
    "    \n",
    "    feat1 = [0] * len(catID)\n",
    "    if d['category'] in catID:\n",
    "        feat1[catID[d['category']]] = 1\n",
    "    feat.extend(feat1)\n",
    "    \n",
    "    feat.append(1) # offset\n",
    "    return feat"
   ]
  },
  {
   "cell_type": "code",
   "execution_count": 57,
   "id": "cdbe46e7",
   "metadata": {},
   "outputs": [],
   "source": [
    "X4 = [feat3(d) for d in data]\n",
    "y4 = [d['rating'] for d in data]\n",
    "\n",
    "Xtrain4, Xtest4, ytrain4, ytest4 = train_test_split(X4, y4, test_size=0.2, random_state=42)"
   ]
  },
  {
   "cell_type": "code",
   "execution_count": 58,
   "id": "b3f6c5ae",
   "metadata": {},
   "outputs": [
    {
     "data": {
      "text/plain": [
       "0.3760929352235825"
      ]
     },
     "execution_count": 58,
     "metadata": {},
     "output_type": "execute_result"
    }
   ],
   "source": [
    "# Linear regression\n",
    "clf4 = linear_model.LinearRegression(fit_intercept=False)\n",
    "clf4.fit(Xtrain4, ytrain4)\n",
    "theta4 = clf4.coef_\n",
    "ypred4 = clf4.predict(Xtest4)\n",
    "mse4 = mean_squared_error(ytest4, ypred4)\n",
    "mse4"
   ]
  },
  {
   "cell_type": "code",
   "execution_count": 59,
   "id": "40c87b2e",
   "metadata": {},
   "outputs": [],
   "source": [
    "def feat5(datum):\n",
    "    feat = [0]*len(words)\n",
    "    r = ''.join([c for c in datum['review_text'].lower() if not c in sp])\n",
    "    for w in r.split():\n",
    "        if w in words:\n",
    "            feat[wordId[w]] += 1\n",
    "    \n",
    "    feat.append(datum['size'])\n",
    "    feat.append(datum['age'])\n",
    "    feat.append(bddict[datum['body type']])\n",
    "    feat.append(rfdict[datum['rented for']])\n",
    "    \n",
    "    feat1 = [0] * len(catID)\n",
    "    if d['category'] in catID:\n",
    "        feat1[catID[d['category']]] = 1\n",
    "    feat.extend(feat1)\n",
    "    \n",
    "    feat.append(1) # offset\n",
    "    return feat"
   ]
  },
  {
   "cell_type": "code",
   "execution_count": 60,
   "id": "cbd273df",
   "metadata": {},
   "outputs": [],
   "source": [
    "X5 = [feat5(d) for d in data]\n",
    "y5 = [d['rating'] for d in data]\n",
    "\n",
    "Xtrain5, Xtest5, ytrain5, ytest5 = train_test_split(X5, y5, test_size=0.2, random_state=42)"
   ]
  },
  {
   "cell_type": "code",
   "execution_count": 61,
   "id": "ff7d72b8",
   "metadata": {},
   "outputs": [
    {
     "data": {
      "text/plain": [
       "0.37569737737281816"
      ]
     },
     "execution_count": 61,
     "metadata": {},
     "output_type": "execute_result"
    }
   ],
   "source": [
    "# Linear regression\n",
    "clf5 = linear_model.LinearRegression(fit_intercept=False)\n",
    "clf5.fit(Xtrain5, ytrain5)\n",
    "theta5 = clf5.coef_\n",
    "ypred5 = clf5.predict(Xtest5)\n",
    "mse5 = mean_squared_error(ytest5, ypred5)\n",
    "mse5"
   ]
  },
  {
   "cell_type": "code",
   "execution_count": 62,
   "id": "368d856b",
   "metadata": {},
   "outputs": [],
   "source": [
    "def feat6(datum):\n",
    "    feat = [0]*len(words)\n",
    "    r = ''.join([c for c in datum['review_text'].lower() if not c in sp])\n",
    "    for w in r.split():\n",
    "        if w in words:\n",
    "            feat[wordId[w]] += 1\n",
    "    \n",
    "    feat.append(datum['height'])\n",
    "    feat.append(datum['weight'])\n",
    "    feat.append(datum['size'])\n",
    "    feat.append(datum['age'])\n",
    "    feat.append(bddict[datum['body type']])\n",
    "    feat.append(rfdict[datum['rented for']])\n",
    "    \n",
    "    feat1 = [0] * len(catID)\n",
    "    if d['category'] in catID:\n",
    "        feat1[catID[d['category']]] = 1\n",
    "    feat.extend(feat1)\n",
    "    \n",
    "    feat.append(1) # offset\n",
    "    return feat"
   ]
  },
  {
   "cell_type": "code",
   "execution_count": 63,
   "id": "ca14d829",
   "metadata": {},
   "outputs": [],
   "source": [
    "X6 = [feat6(d) for d in data]\n",
    "y6 = [d['rating'] for d in data]\n",
    "\n",
    "Xtrain6, Xtest6, ytrain6, ytest6 = train_test_split(X6, y6, test_size=0.2, random_state=42)"
   ]
  },
  {
   "cell_type": "code",
   "execution_count": 64,
   "id": "41f14336",
   "metadata": {},
   "outputs": [
    {
     "data": {
      "text/plain": [
       "0.375712764417231"
      ]
     },
     "execution_count": 64,
     "metadata": {},
     "output_type": "execute_result"
    }
   ],
   "source": [
    "# Linear regression\n",
    "clf6 = linear_model.LinearRegression(fit_intercept=False)\n",
    "clf6.fit(Xtrain6, ytrain6)\n",
    "theta6 = clf6.coef_\n",
    "ypred6 = clf6.predict(Xtest6)\n",
    "mse6 = mean_squared_error(ytest6, ypred6)\n",
    "mse6"
   ]
  },
  {
   "cell_type": "code",
   "execution_count": 65,
   "id": "b4d15c4e",
   "metadata": {},
   "outputs": [
    {
     "data": {
      "text/plain": [
       "(array([-3.91796835e-07,  6.17487756e-03, -7.57820666e-04, ...,\n",
       "        -1.56110422e-01,  9.47945011e-03,  4.43769826e+00]),\n",
       " array([-6.62616665e-06,  6.16738138e-03, -7.65635401e-04, ...,\n",
       "         9.48777925e-03, -6.87695070e-04,  4.43925596e+00]),\n",
       " array([ 9.92787873e-05,  6.29892406e-03, -6.98496183e-04, ...,\n",
       "         0.00000000e+00,  0.00000000e+00,  3.28798140e+11]),\n",
       " array([-1.59409332e-04,  6.23490744e-03, -7.68441702e-04, ...,\n",
       "         0.00000000e+00,  0.00000000e+00,  3.68621771e+11]),\n",
       " array([-3.74915237e-05,  6.49689147e-03, -6.72631234e-04, ...,\n",
       "         0.00000000e+00,  0.00000000e+00,  2.28109521e+00]),\n",
       " array([-4.48925897e-05,  6.46649684e-03, -7.02620082e-04, ...,\n",
       "         0.00000000e+00,  0.00000000e+00,  2.28248290e+00]))"
      ]
     },
     "execution_count": 65,
     "metadata": {},
     "output_type": "execute_result"
    }
   ],
   "source": [
    "theta, theta2, theta3, theta4, theta5, theta6"
   ]
  },
  {
   "cell_type": "code",
   "execution_count": null,
   "id": "b4cf7d2b",
   "metadata": {},
   "outputs": [],
   "source": []
  }
 ],
 "metadata": {
  "kernelspec": {
   "display_name": "Python 3 (ipykernel)",
   "language": "python",
   "name": "python3"
  },
  "language_info": {
   "codemirror_mode": {
    "name": "ipython",
    "version": 3
   },
   "file_extension": ".py",
   "mimetype": "text/x-python",
   "name": "python",
   "nbconvert_exporter": "python",
   "pygments_lexer": "ipython3",
   "version": "3.9.15"
  }
 },
 "nbformat": 4,
 "nbformat_minor": 5
}
