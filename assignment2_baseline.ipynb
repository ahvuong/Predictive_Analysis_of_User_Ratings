{
 "cells": [
  {
   "cell_type": "code",
   "execution_count": 20,
   "id": "586c242a",
   "metadata": {},
   "outputs": [],
   "source": [
    "import json\n",
    "from collections import defaultdict\n",
    "from sklearn import linear_model, metrics\n",
    "from sklearn.metrics import precision_score\n",
    "import numpy as np\n",
    "import random\n",
    "import gzip\n",
    "import dateutil.parser\n",
    "import math\n",
    "import matplotlib.pyplot as plt\n",
    "import string\n",
    "import re\n",
    "from nltk.stem.snowball import stopwords\n",
    "from sklearn.feature_extraction.text import CountVectorizer\n",
    "from sklearn.model_selection import train_test_split\n",
    "from sklearn.metrics import accuracy_score, mean_squared_error, mean_absolute_error\n",
    "from wordcloud import WordCloud, STOPWORDS\n",
    "from scipy.sparse import lil_matrix\n",
    "from gensim.models import Word2Vec\n",
    "import tensorflow as tf"
   ]
  },
  {
   "cell_type": "code",
   "execution_count": 21,
   "id": "439314fa",
   "metadata": {},
   "outputs": [],
   "source": [
    "f = gzip.open(\"renttherunway_final_data.json.gz\")\n",
    "dataset = []\n",
    "for l in f:\n",
    "    dataset.append(json.loads(l))"
   ]
  },
  {
   "cell_type": "code",
   "execution_count": 22,
   "id": "b18c8a50",
   "metadata": {},
   "outputs": [
    {
     "data": {
      "text/plain": [
       "192544"
      ]
     },
     "execution_count": 22,
     "metadata": {},
     "output_type": "execute_result"
    }
   ],
   "source": [
    "len(dataset)"
   ]
  },
  {
   "cell_type": "code",
   "execution_count": 23,
   "id": "c9ac506f",
   "metadata": {
    "scrolled": true
   },
   "outputs": [
    {
     "data": {
      "text/plain": [
       "{'fit': 'fit',\n",
       " 'user_id': '420272',\n",
       " 'bust size': '34d',\n",
       " 'item_id': '2260466',\n",
       " 'weight': '137lbs',\n",
       " 'rating': '10',\n",
       " 'rented for': 'vacation',\n",
       " 'review_text': \"An adorable romper! Belt and zipper were a little hard to navigate in a full day of wear/bathroom use, but that's to be expected. Wish it had pockets, but other than that-- absolutely perfect! I got a million compliments.\",\n",
       " 'body type': 'hourglass',\n",
       " 'review_summary': 'So many compliments!',\n",
       " 'category': 'romper',\n",
       " 'height': '5\\' 8\"',\n",
       " 'size': 14,\n",
       " 'age': '28',\n",
       " 'review_date': 'April 20, 2016'}"
      ]
     },
     "execution_count": 23,
     "metadata": {},
     "output_type": "execute_result"
    }
   ],
   "source": [
    "dataset[0]"
   ]
  },
  {
   "cell_type": "markdown",
   "id": "5ec77d14",
   "metadata": {},
   "source": [
    "## Data Cleaning"
   ]
  },
  {
   "cell_type": "code",
   "execution_count": 24,
   "id": "1cae4bab",
   "metadata": {},
   "outputs": [],
   "source": [
    "data = dataset"
   ]
  },
  {
   "cell_type": "code",
   "execution_count": 25,
   "id": "fca5ace0",
   "metadata": {},
   "outputs": [
    {
     "name": "stdout",
     "output_type": "stream",
     "text": [
      "192462 192544\n"
     ]
    }
   ],
   "source": [
    "# Drop all ratings having null values\n",
    "data = [d for d in dataset if d['rating'] != None]\n",
    "print(len(data), len(dataset))"
   ]
  },
  {
   "cell_type": "code",
   "execution_count": 26,
   "id": "4d85d45c",
   "metadata": {},
   "outputs": [
    {
     "name": "stdout",
     "output_type": "stream",
     "text": [
      "191503 192544\n"
     ]
    }
   ],
   "source": [
    "# Drop all 'age' having null values\n",
    "data = [d for d in data if 'age' in d]\n",
    "print(len(data), len(dataset))"
   ]
  },
  {
   "cell_type": "code",
   "execution_count": 27,
   "id": "8d93155b",
   "metadata": {},
   "outputs": [
    {
     "name": "stdout",
     "output_type": "stream",
     "text": [
      "162153 192544\n"
     ]
    }
   ],
   "source": [
    "# Drop all 'weight' having null values\n",
    "data = [d for d in data if 'weight' in d]\n",
    "print(len(data), len(dataset))"
   ]
  },
  {
   "cell_type": "code",
   "execution_count": 28,
   "id": "2634a063",
   "metadata": {},
   "outputs": [
    {
     "name": "stdout",
     "output_type": "stream",
     "text": [
      "161716 192544\n"
     ]
    }
   ],
   "source": [
    "# Drop all 'height' having null values\n",
    "data = [d for d in data if 'height' in d]\n",
    "print(len(data), len(dataset))"
   ]
  },
  {
   "cell_type": "code",
   "execution_count": 29,
   "id": "29129e87",
   "metadata": {},
   "outputs": [
    {
     "name": "stdout",
     "output_type": "stream",
     "text": [
      "153110 192544\n"
     ]
    }
   ],
   "source": [
    "# Drop all 'body type' having null values\n",
    "data = [d for d in data if 'body type' in d and d['body type'] != None]\n",
    "print(len(data), len(dataset))"
   ]
  },
  {
   "cell_type": "code",
   "execution_count": 30,
   "id": "0ec476c3",
   "metadata": {},
   "outputs": [
    {
     "name": "stdout",
     "output_type": "stream",
     "text": [
      "153100 192544\n"
     ]
    }
   ],
   "source": [
    "# Drop all 'rented for' having null values\n",
    "data = [d for d in data if 'rented for' in d and d['body type'] != None]\n",
    "print(len(data), len(dataset))"
   ]
  },
  {
   "cell_type": "code",
   "execution_count": 31,
   "id": "4b9b9f47",
   "metadata": {},
   "outputs": [],
   "source": [
    "for d in data:\n",
    "    # Convert 'rating' from string to int and change from 2,4,6,8,10 to 1,2,3,4,5\n",
    "    d['rating'] = int(d['rating']) // 2\n",
    "    # Convert 'age' from string to int\n",
    "    d['age'] = int(d['age'])\n",
    "    # Drop 'lbs' unit and convert 'weight' from str to int\n",
    "    d['weight'] = int(d['weight'][:-3])\n",
    "    # Drop unit and convert 'height' from str to int\n",
    "    feet,inch = re.findall(r'\\d+', d['height'])\n",
    "    d['height'] = int(feet) * 12 + int(inch)"
   ]
  },
  {
   "cell_type": "code",
   "execution_count": 32,
   "id": "2ce941f1",
   "metadata": {},
   "outputs": [],
   "source": [
    "# Pre-processing 'review_text' by ignoring capitalization and removing punctuation\n",
    "sp = set(string.punctuation)\n",
    "def cleanText(text):\n",
    "    text = ''.join([c for c in text.lower() if not c in sp])\n",
    "    return text"
   ]
  },
  {
   "cell_type": "code",
   "execution_count": 33,
   "id": "ce8cdfa7",
   "metadata": {},
   "outputs": [
    {
     "data": {
      "text/plain": [
       "{'fit': 'fit',\n",
       " 'user_id': '203660',\n",
       " 'bust size': '34c',\n",
       " 'item_id': '1126889',\n",
       " 'weight': 160,\n",
       " 'rating': 3,\n",
       " 'rented for': 'party',\n",
       " 'review_text': \"The dress is absolutely gorgeous, unfortunately the dress proportions were off for my height. I would have loved to wear this out, but I couldn't because the lengths were awkward on my body. \",\n",
       " 'body type': 'athletic',\n",
       " 'review_summary': 'Too Long',\n",
       " 'category': 'dress',\n",
       " 'height': 64,\n",
       " 'size': 12,\n",
       " 'age': 28,\n",
       " 'review_date': 'January 3, 2017'}"
      ]
     },
     "execution_count": 33,
     "metadata": {},
     "output_type": "execute_result"
    }
   ],
   "source": [
    "data[68]"
   ]
  },
  {
   "cell_type": "code",
   "execution_count": 34,
   "id": "cde48837",
   "metadata": {},
   "outputs": [
    {
     "name": "stdout",
     "output_type": "stream",
     "text": [
      "153100 192544\n"
     ]
    }
   ],
   "source": [
    "print(len(data), len(dataset)) "
   ]
  },
  {
   "cell_type": "markdown",
   "metadata": {},
   "source": [
    "# Baseline Model using global average rating"
   ]
  },
  {
   "cell_type": "code",
   "execution_count": 35,
   "metadata": {},
   "outputs": [],
   "source": [
    "# Train-test split is 8/2\n",
    "trainRatio = 0.8\n",
    "NTrain = int(len(data) * trainRatio)\n",
    "trainSet = data[:NTrain]\n",
    "testSet = data[NTrain:]"
   ]
  },
  {
   "cell_type": "code",
   "execution_count": 36,
   "metadata": {},
   "outputs": [
    {
     "data": {
      "text/plain": [
       "0.5203435927901531"
      ]
     },
     "execution_count": 36,
     "metadata": {},
     "output_type": "execute_result"
    }
   ],
   "source": [
    "globalAvgRating = sum([d['rating'] for d in data]) / len(data)\n",
    "pred = [globalAvgRating for i in range(len(testSet))]\n",
    "yTest = [d['rating'] for d in testSet]\n",
    "metrics.mean_squared_error(yTest, pred)"
   ]
  }
 ],
 "metadata": {
  "kernelspec": {
   "display_name": "Python 3 (ipykernel)",
   "language": "python",
   "name": "python3"
  },
  "language_info": {
   "codemirror_mode": {
    "name": "ipython",
    "version": 3
   },
   "file_extension": ".py",
   "mimetype": "text/x-python",
   "name": "python",
   "nbconvert_exporter": "python",
   "pygments_lexer": "ipython3",
   "version": "3.9.18"
  }
 },
 "nbformat": 4,
 "nbformat_minor": 5
}
